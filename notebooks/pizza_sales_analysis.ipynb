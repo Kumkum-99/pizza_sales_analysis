{
 "cells": [
  {
   "cell_type": "code",
   "execution_count": 16,
   "id": "99809c50",
   "metadata": {},
   "outputs": [],
   "source": [
    "import pandas as pd\n",
    "\n",
    "# Load CSVs (use encoding fix if needed)\n",
    "pizzas = pd.read_csv(\"../data/raw/pizzas.csv\")\n",
    "order_details = pd.read_csv(\"../data/raw/order_details.csv\")\n",
    "orders = pd.read_csv(\"../data/raw/orders.csv\")\n",
    "pizza_types = pd.read_csv(\"../data/raw/pizza_types.csv\", encoding=\"cp1252\")\n",
    "\n",
    "\n"
   ]
  },
  {
   "cell_type": "code",
   "execution_count": 17,
   "id": "66e03415",
   "metadata": {},
   "outputs": [
    {
     "data": {
      "text/html": [
       "<div>\n",
       "<style scoped>\n",
       "    .dataframe tbody tr th:only-of-type {\n",
       "        vertical-align: middle;\n",
       "    }\n",
       "\n",
       "    .dataframe tbody tr th {\n",
       "        vertical-align: top;\n",
       "    }\n",
       "\n",
       "    .dataframe thead th {\n",
       "        text-align: right;\n",
       "    }\n",
       "</style>\n",
       "<table border=\"1\" class=\"dataframe\">\n",
       "  <thead>\n",
       "    <tr style=\"text-align: right;\">\n",
       "      <th></th>\n",
       "      <th>order_details_id</th>\n",
       "      <th>order_id</th>\n",
       "      <th>pizza_id</th>\n",
       "      <th>quantity</th>\n",
       "    </tr>\n",
       "  </thead>\n",
       "  <tbody>\n",
       "    <tr>\n",
       "      <th>0</th>\n",
       "      <td>1</td>\n",
       "      <td>1</td>\n",
       "      <td>hawaiian_m</td>\n",
       "      <td>1</td>\n",
       "    </tr>\n",
       "    <tr>\n",
       "      <th>1</th>\n",
       "      <td>2</td>\n",
       "      <td>2</td>\n",
       "      <td>classic_dlx_m</td>\n",
       "      <td>1</td>\n",
       "    </tr>\n",
       "    <tr>\n",
       "      <th>2</th>\n",
       "      <td>3</td>\n",
       "      <td>2</td>\n",
       "      <td>five_cheese_l</td>\n",
       "      <td>1</td>\n",
       "    </tr>\n",
       "    <tr>\n",
       "      <th>3</th>\n",
       "      <td>4</td>\n",
       "      <td>2</td>\n",
       "      <td>ital_supr_l</td>\n",
       "      <td>1</td>\n",
       "    </tr>\n",
       "    <tr>\n",
       "      <th>4</th>\n",
       "      <td>5</td>\n",
       "      <td>2</td>\n",
       "      <td>mexicana_m</td>\n",
       "      <td>1</td>\n",
       "    </tr>\n",
       "  </tbody>\n",
       "</table>\n",
       "</div>"
      ],
      "text/plain": [
       "   order_details_id  order_id       pizza_id  quantity\n",
       "0                 1         1     hawaiian_m         1\n",
       "1                 2         2  classic_dlx_m         1\n",
       "2                 3         2  five_cheese_l         1\n",
       "3                 4         2    ital_supr_l         1\n",
       "4                 5         2     mexicana_m         1"
      ]
     },
     "execution_count": 17,
     "metadata": {},
     "output_type": "execute_result"
    }
   ],
   "source": [
    "order_details.head()"
   ]
  },
  {
   "cell_type": "code",
   "execution_count": 18,
   "id": "e9baf403",
   "metadata": {},
   "outputs": [
    {
     "data": {
      "text/html": [
       "<div>\n",
       "<style scoped>\n",
       "    .dataframe tbody tr th:only-of-type {\n",
       "        vertical-align: middle;\n",
       "    }\n",
       "\n",
       "    .dataframe tbody tr th {\n",
       "        vertical-align: top;\n",
       "    }\n",
       "\n",
       "    .dataframe thead th {\n",
       "        text-align: right;\n",
       "    }\n",
       "</style>\n",
       "<table border=\"1\" class=\"dataframe\">\n",
       "  <thead>\n",
       "    <tr style=\"text-align: right;\">\n",
       "      <th></th>\n",
       "      <th>pizza_type_id</th>\n",
       "      <th>name</th>\n",
       "      <th>category</th>\n",
       "      <th>ingredients</th>\n",
       "    </tr>\n",
       "  </thead>\n",
       "  <tbody>\n",
       "    <tr>\n",
       "      <th>0</th>\n",
       "      <td>bbq_ckn</td>\n",
       "      <td>The Barbecue Chicken Pizza</td>\n",
       "      <td>Chicken</td>\n",
       "      <td>Barbecued Chicken, Red Peppers, Green Peppers,...</td>\n",
       "    </tr>\n",
       "    <tr>\n",
       "      <th>1</th>\n",
       "      <td>cali_ckn</td>\n",
       "      <td>The California Chicken Pizza</td>\n",
       "      <td>Chicken</td>\n",
       "      <td>Chicken, Artichoke, Spinach, Garlic, Jalapeno ...</td>\n",
       "    </tr>\n",
       "    <tr>\n",
       "      <th>2</th>\n",
       "      <td>ckn_alfredo</td>\n",
       "      <td>The Chicken Alfredo Pizza</td>\n",
       "      <td>Chicken</td>\n",
       "      <td>Chicken, Red Onions, Red Peppers, Mushrooms, A...</td>\n",
       "    </tr>\n",
       "    <tr>\n",
       "      <th>3</th>\n",
       "      <td>ckn_pesto</td>\n",
       "      <td>The Chicken Pesto Pizza</td>\n",
       "      <td>Chicken</td>\n",
       "      <td>Chicken, Tomatoes, Red Peppers, Spinach, Garli...</td>\n",
       "    </tr>\n",
       "    <tr>\n",
       "      <th>4</th>\n",
       "      <td>southw_ckn</td>\n",
       "      <td>The Southwest Chicken Pizza</td>\n",
       "      <td>Chicken</td>\n",
       "      <td>Chicken, Tomatoes, Red Peppers, Red Onions, Ja...</td>\n",
       "    </tr>\n",
       "  </tbody>\n",
       "</table>\n",
       "</div>"
      ],
      "text/plain": [
       "  pizza_type_id                          name category  \\\n",
       "0       bbq_ckn    The Barbecue Chicken Pizza  Chicken   \n",
       "1      cali_ckn  The California Chicken Pizza  Chicken   \n",
       "2   ckn_alfredo     The Chicken Alfredo Pizza  Chicken   \n",
       "3     ckn_pesto       The Chicken Pesto Pizza  Chicken   \n",
       "4    southw_ckn   The Southwest Chicken Pizza  Chicken   \n",
       "\n",
       "                                         ingredients  \n",
       "0  Barbecued Chicken, Red Peppers, Green Peppers,...  \n",
       "1  Chicken, Artichoke, Spinach, Garlic, Jalapeno ...  \n",
       "2  Chicken, Red Onions, Red Peppers, Mushrooms, A...  \n",
       "3  Chicken, Tomatoes, Red Peppers, Spinach, Garli...  \n",
       "4  Chicken, Tomatoes, Red Peppers, Red Onions, Ja...  "
      ]
     },
     "execution_count": 18,
     "metadata": {},
     "output_type": "execute_result"
    }
   ],
   "source": [
    "pizza_types.head()"
   ]
  },
  {
   "cell_type": "code",
   "execution_count": 19,
   "id": "98cdc890",
   "metadata": {},
   "outputs": [
    {
     "data": {
      "text/html": [
       "<div>\n",
       "<style scoped>\n",
       "    .dataframe tbody tr th:only-of-type {\n",
       "        vertical-align: middle;\n",
       "    }\n",
       "\n",
       "    .dataframe tbody tr th {\n",
       "        vertical-align: top;\n",
       "    }\n",
       "\n",
       "    .dataframe thead th {\n",
       "        text-align: right;\n",
       "    }\n",
       "</style>\n",
       "<table border=\"1\" class=\"dataframe\">\n",
       "  <thead>\n",
       "    <tr style=\"text-align: right;\">\n",
       "      <th></th>\n",
       "      <th>pizza_id</th>\n",
       "      <th>pizza_type_id</th>\n",
       "      <th>size</th>\n",
       "      <th>price</th>\n",
       "    </tr>\n",
       "  </thead>\n",
       "  <tbody>\n",
       "    <tr>\n",
       "      <th>0</th>\n",
       "      <td>bbq_ckn_s</td>\n",
       "      <td>bbq_ckn</td>\n",
       "      <td>S</td>\n",
       "      <td>12.75</td>\n",
       "    </tr>\n",
       "    <tr>\n",
       "      <th>1</th>\n",
       "      <td>bbq_ckn_m</td>\n",
       "      <td>bbq_ckn</td>\n",
       "      <td>M</td>\n",
       "      <td>16.75</td>\n",
       "    </tr>\n",
       "    <tr>\n",
       "      <th>2</th>\n",
       "      <td>bbq_ckn_l</td>\n",
       "      <td>bbq_ckn</td>\n",
       "      <td>L</td>\n",
       "      <td>20.75</td>\n",
       "    </tr>\n",
       "    <tr>\n",
       "      <th>3</th>\n",
       "      <td>cali_ckn_s</td>\n",
       "      <td>cali_ckn</td>\n",
       "      <td>S</td>\n",
       "      <td>12.75</td>\n",
       "    </tr>\n",
       "    <tr>\n",
       "      <th>4</th>\n",
       "      <td>cali_ckn_m</td>\n",
       "      <td>cali_ckn</td>\n",
       "      <td>M</td>\n",
       "      <td>16.75</td>\n",
       "    </tr>\n",
       "  </tbody>\n",
       "</table>\n",
       "</div>"
      ],
      "text/plain": [
       "     pizza_id pizza_type_id size  price\n",
       "0   bbq_ckn_s       bbq_ckn    S  12.75\n",
       "1   bbq_ckn_m       bbq_ckn    M  16.75\n",
       "2   bbq_ckn_l       bbq_ckn    L  20.75\n",
       "3  cali_ckn_s      cali_ckn    S  12.75\n",
       "4  cali_ckn_m      cali_ckn    M  16.75"
      ]
     },
     "execution_count": 19,
     "metadata": {},
     "output_type": "execute_result"
    }
   ],
   "source": [
    "pizzas.head()"
   ]
  },
  {
   "cell_type": "code",
   "execution_count": 20,
   "id": "df5ee018",
   "metadata": {},
   "outputs": [
    {
     "data": {
      "text/html": [
       "<div>\n",
       "<style scoped>\n",
       "    .dataframe tbody tr th:only-of-type {\n",
       "        vertical-align: middle;\n",
       "    }\n",
       "\n",
       "    .dataframe tbody tr th {\n",
       "        vertical-align: top;\n",
       "    }\n",
       "\n",
       "    .dataframe thead th {\n",
       "        text-align: right;\n",
       "    }\n",
       "</style>\n",
       "<table border=\"1\" class=\"dataframe\">\n",
       "  <thead>\n",
       "    <tr style=\"text-align: right;\">\n",
       "      <th></th>\n",
       "      <th>pizza_type_id</th>\n",
       "      <th>name</th>\n",
       "      <th>category</th>\n",
       "      <th>ingredients</th>\n",
       "    </tr>\n",
       "  </thead>\n",
       "  <tbody>\n",
       "    <tr>\n",
       "      <th>0</th>\n",
       "      <td>bbq_ckn</td>\n",
       "      <td>The Barbecue Chicken Pizza</td>\n",
       "      <td>Chicken</td>\n",
       "      <td>Barbecued Chicken, Red Peppers, Green Peppers,...</td>\n",
       "    </tr>\n",
       "    <tr>\n",
       "      <th>1</th>\n",
       "      <td>cali_ckn</td>\n",
       "      <td>The California Chicken Pizza</td>\n",
       "      <td>Chicken</td>\n",
       "      <td>Chicken, Artichoke, Spinach, Garlic, Jalapeno ...</td>\n",
       "    </tr>\n",
       "    <tr>\n",
       "      <th>2</th>\n",
       "      <td>ckn_alfredo</td>\n",
       "      <td>The Chicken Alfredo Pizza</td>\n",
       "      <td>Chicken</td>\n",
       "      <td>Chicken, Red Onions, Red Peppers, Mushrooms, A...</td>\n",
       "    </tr>\n",
       "    <tr>\n",
       "      <th>3</th>\n",
       "      <td>ckn_pesto</td>\n",
       "      <td>The Chicken Pesto Pizza</td>\n",
       "      <td>Chicken</td>\n",
       "      <td>Chicken, Tomatoes, Red Peppers, Spinach, Garli...</td>\n",
       "    </tr>\n",
       "    <tr>\n",
       "      <th>4</th>\n",
       "      <td>southw_ckn</td>\n",
       "      <td>The Southwest Chicken Pizza</td>\n",
       "      <td>Chicken</td>\n",
       "      <td>Chicken, Tomatoes, Red Peppers, Red Onions, Ja...</td>\n",
       "    </tr>\n",
       "  </tbody>\n",
       "</table>\n",
       "</div>"
      ],
      "text/plain": [
       "  pizza_type_id                          name category  \\\n",
       "0       bbq_ckn    The Barbecue Chicken Pizza  Chicken   \n",
       "1      cali_ckn  The California Chicken Pizza  Chicken   \n",
       "2   ckn_alfredo     The Chicken Alfredo Pizza  Chicken   \n",
       "3     ckn_pesto       The Chicken Pesto Pizza  Chicken   \n",
       "4    southw_ckn   The Southwest Chicken Pizza  Chicken   \n",
       "\n",
       "                                         ingredients  \n",
       "0  Barbecued Chicken, Red Peppers, Green Peppers,...  \n",
       "1  Chicken, Artichoke, Spinach, Garlic, Jalapeno ...  \n",
       "2  Chicken, Red Onions, Red Peppers, Mushrooms, A...  \n",
       "3  Chicken, Tomatoes, Red Peppers, Spinach, Garli...  \n",
       "4  Chicken, Tomatoes, Red Peppers, Red Onions, Ja...  "
      ]
     },
     "execution_count": 20,
     "metadata": {},
     "output_type": "execute_result"
    }
   ],
   "source": [
    "pizza_types.head()"
   ]
  },
  {
   "cell_type": "code",
   "execution_count": 21,
   "id": "0a3461a2",
   "metadata": {},
   "outputs": [
    {
     "ename": "OSError",
     "evalue": "Cannot save file into a non-existent directory: 'merged_data'",
     "output_type": "error",
     "traceback": [
      "\u001b[1;31m---------------------------------------------------------------------------\u001b[0m",
      "\u001b[1;31mOSError\u001b[0m                                   Traceback (most recent call last)",
      "Cell \u001b[1;32mIn[21], line 16\u001b[0m\n\u001b[0;32m     13\u001b[0m df[\u001b[38;5;124m\"\u001b[39m\u001b[38;5;124mrevenue\u001b[39m\u001b[38;5;124m\"\u001b[39m] \u001b[38;5;241m=\u001b[39m df[\u001b[38;5;124m\"\u001b[39m\u001b[38;5;124mprice\u001b[39m\u001b[38;5;124m\"\u001b[39m] \u001b[38;5;241m*\u001b[39m df[\u001b[38;5;124m\"\u001b[39m\u001b[38;5;124mquantity\u001b[39m\u001b[38;5;124m\"\u001b[39m]\n\u001b[0;32m     15\u001b[0m \u001b[38;5;66;03m# Save merged file with revenue\u001b[39;00m\n\u001b[1;32m---> 16\u001b[0m df\u001b[38;5;241m.\u001b[39mto_csv(\u001b[38;5;124m\"\u001b[39m\u001b[38;5;124mmerged_data/merged_pizza_sales.csv\u001b[39m\u001b[38;5;124m\"\u001b[39m, index\u001b[38;5;241m=\u001b[39m\u001b[38;5;28;01mFalse\u001b[39;00m)\n\u001b[0;32m     20\u001b[0m df\n",
      "File \u001b[1;32mC:\\ProgramData\\anaconda3\\Lib\\site-packages\\pandas\\core\\generic.py:3902\u001b[0m, in \u001b[0;36mNDFrame.to_csv\u001b[1;34m(self, path_or_buf, sep, na_rep, float_format, columns, header, index, index_label, mode, encoding, compression, quoting, quotechar, lineterminator, chunksize, date_format, doublequote, escapechar, decimal, errors, storage_options)\u001b[0m\n\u001b[0;32m   3891\u001b[0m df \u001b[38;5;241m=\u001b[39m \u001b[38;5;28mself\u001b[39m \u001b[38;5;28;01mif\u001b[39;00m \u001b[38;5;28misinstance\u001b[39m(\u001b[38;5;28mself\u001b[39m, ABCDataFrame) \u001b[38;5;28;01melse\u001b[39;00m \u001b[38;5;28mself\u001b[39m\u001b[38;5;241m.\u001b[39mto_frame()\n\u001b[0;32m   3893\u001b[0m formatter \u001b[38;5;241m=\u001b[39m DataFrameFormatter(\n\u001b[0;32m   3894\u001b[0m     frame\u001b[38;5;241m=\u001b[39mdf,\n\u001b[0;32m   3895\u001b[0m     header\u001b[38;5;241m=\u001b[39mheader,\n\u001b[1;32m   (...)\u001b[0m\n\u001b[0;32m   3899\u001b[0m     decimal\u001b[38;5;241m=\u001b[39mdecimal,\n\u001b[0;32m   3900\u001b[0m )\n\u001b[1;32m-> 3902\u001b[0m \u001b[38;5;28;01mreturn\u001b[39;00m DataFrameRenderer(formatter)\u001b[38;5;241m.\u001b[39mto_csv(\n\u001b[0;32m   3903\u001b[0m     path_or_buf,\n\u001b[0;32m   3904\u001b[0m     lineterminator\u001b[38;5;241m=\u001b[39mlineterminator,\n\u001b[0;32m   3905\u001b[0m     sep\u001b[38;5;241m=\u001b[39msep,\n\u001b[0;32m   3906\u001b[0m     encoding\u001b[38;5;241m=\u001b[39mencoding,\n\u001b[0;32m   3907\u001b[0m     errors\u001b[38;5;241m=\u001b[39merrors,\n\u001b[0;32m   3908\u001b[0m     compression\u001b[38;5;241m=\u001b[39mcompression,\n\u001b[0;32m   3909\u001b[0m     quoting\u001b[38;5;241m=\u001b[39mquoting,\n\u001b[0;32m   3910\u001b[0m     columns\u001b[38;5;241m=\u001b[39mcolumns,\n\u001b[0;32m   3911\u001b[0m     index_label\u001b[38;5;241m=\u001b[39mindex_label,\n\u001b[0;32m   3912\u001b[0m     mode\u001b[38;5;241m=\u001b[39mmode,\n\u001b[0;32m   3913\u001b[0m     chunksize\u001b[38;5;241m=\u001b[39mchunksize,\n\u001b[0;32m   3914\u001b[0m     quotechar\u001b[38;5;241m=\u001b[39mquotechar,\n\u001b[0;32m   3915\u001b[0m     date_format\u001b[38;5;241m=\u001b[39mdate_format,\n\u001b[0;32m   3916\u001b[0m     doublequote\u001b[38;5;241m=\u001b[39mdoublequote,\n\u001b[0;32m   3917\u001b[0m     escapechar\u001b[38;5;241m=\u001b[39mescapechar,\n\u001b[0;32m   3918\u001b[0m     storage_options\u001b[38;5;241m=\u001b[39mstorage_options,\n\u001b[0;32m   3919\u001b[0m )\n",
      "File \u001b[1;32mC:\\ProgramData\\anaconda3\\Lib\\site-packages\\pandas\\io\\formats\\format.py:1152\u001b[0m, in \u001b[0;36mDataFrameRenderer.to_csv\u001b[1;34m(self, path_or_buf, encoding, sep, columns, index_label, mode, compression, quoting, quotechar, lineterminator, chunksize, date_format, doublequote, escapechar, errors, storage_options)\u001b[0m\n\u001b[0;32m   1131\u001b[0m     created_buffer \u001b[38;5;241m=\u001b[39m \u001b[38;5;28;01mFalse\u001b[39;00m\n\u001b[0;32m   1133\u001b[0m csv_formatter \u001b[38;5;241m=\u001b[39m CSVFormatter(\n\u001b[0;32m   1134\u001b[0m     path_or_buf\u001b[38;5;241m=\u001b[39mpath_or_buf,\n\u001b[0;32m   1135\u001b[0m     lineterminator\u001b[38;5;241m=\u001b[39mlineterminator,\n\u001b[1;32m   (...)\u001b[0m\n\u001b[0;32m   1150\u001b[0m     formatter\u001b[38;5;241m=\u001b[39m\u001b[38;5;28mself\u001b[39m\u001b[38;5;241m.\u001b[39mfmt,\n\u001b[0;32m   1151\u001b[0m )\n\u001b[1;32m-> 1152\u001b[0m csv_formatter\u001b[38;5;241m.\u001b[39msave()\n\u001b[0;32m   1154\u001b[0m \u001b[38;5;28;01mif\u001b[39;00m created_buffer:\n\u001b[0;32m   1155\u001b[0m     \u001b[38;5;28;01massert\u001b[39;00m \u001b[38;5;28misinstance\u001b[39m(path_or_buf, StringIO)\n",
      "File \u001b[1;32mC:\\ProgramData\\anaconda3\\Lib\\site-packages\\pandas\\io\\formats\\csvs.py:247\u001b[0m, in \u001b[0;36mCSVFormatter.save\u001b[1;34m(self)\u001b[0m\n\u001b[0;32m    243\u001b[0m \u001b[38;5;250m\u001b[39m\u001b[38;5;124;03m\"\"\"\u001b[39;00m\n\u001b[0;32m    244\u001b[0m \u001b[38;5;124;03mCreate the writer & save.\u001b[39;00m\n\u001b[0;32m    245\u001b[0m \u001b[38;5;124;03m\"\"\"\u001b[39;00m\n\u001b[0;32m    246\u001b[0m \u001b[38;5;66;03m# apply compression and byte/text conversion\u001b[39;00m\n\u001b[1;32m--> 247\u001b[0m \u001b[38;5;28;01mwith\u001b[39;00m get_handle(\n\u001b[0;32m    248\u001b[0m     \u001b[38;5;28mself\u001b[39m\u001b[38;5;241m.\u001b[39mfilepath_or_buffer,\n\u001b[0;32m    249\u001b[0m     \u001b[38;5;28mself\u001b[39m\u001b[38;5;241m.\u001b[39mmode,\n\u001b[0;32m    250\u001b[0m     encoding\u001b[38;5;241m=\u001b[39m\u001b[38;5;28mself\u001b[39m\u001b[38;5;241m.\u001b[39mencoding,\n\u001b[0;32m    251\u001b[0m     errors\u001b[38;5;241m=\u001b[39m\u001b[38;5;28mself\u001b[39m\u001b[38;5;241m.\u001b[39merrors,\n\u001b[0;32m    252\u001b[0m     compression\u001b[38;5;241m=\u001b[39m\u001b[38;5;28mself\u001b[39m\u001b[38;5;241m.\u001b[39mcompression,\n\u001b[0;32m    253\u001b[0m     storage_options\u001b[38;5;241m=\u001b[39m\u001b[38;5;28mself\u001b[39m\u001b[38;5;241m.\u001b[39mstorage_options,\n\u001b[0;32m    254\u001b[0m ) \u001b[38;5;28;01mas\u001b[39;00m handles:\n\u001b[0;32m    255\u001b[0m     \u001b[38;5;66;03m# Note: self.encoding is irrelevant here\u001b[39;00m\n\u001b[0;32m    256\u001b[0m     \u001b[38;5;28mself\u001b[39m\u001b[38;5;241m.\u001b[39mwriter \u001b[38;5;241m=\u001b[39m csvlib\u001b[38;5;241m.\u001b[39mwriter(\n\u001b[0;32m    257\u001b[0m         handles\u001b[38;5;241m.\u001b[39mhandle,\n\u001b[0;32m    258\u001b[0m         lineterminator\u001b[38;5;241m=\u001b[39m\u001b[38;5;28mself\u001b[39m\u001b[38;5;241m.\u001b[39mlineterminator,\n\u001b[1;32m   (...)\u001b[0m\n\u001b[0;32m    263\u001b[0m         quotechar\u001b[38;5;241m=\u001b[39m\u001b[38;5;28mself\u001b[39m\u001b[38;5;241m.\u001b[39mquotechar,\n\u001b[0;32m    264\u001b[0m     )\n\u001b[0;32m    266\u001b[0m     \u001b[38;5;28mself\u001b[39m\u001b[38;5;241m.\u001b[39m_save()\n",
      "File \u001b[1;32mC:\\ProgramData\\anaconda3\\Lib\\site-packages\\pandas\\io\\common.py:739\u001b[0m, in \u001b[0;36mget_handle\u001b[1;34m(path_or_buf, mode, encoding, compression, memory_map, is_text, errors, storage_options)\u001b[0m\n\u001b[0;32m    737\u001b[0m \u001b[38;5;66;03m# Only for write methods\u001b[39;00m\n\u001b[0;32m    738\u001b[0m \u001b[38;5;28;01mif\u001b[39;00m \u001b[38;5;124m\"\u001b[39m\u001b[38;5;124mr\u001b[39m\u001b[38;5;124m\"\u001b[39m \u001b[38;5;129;01mnot\u001b[39;00m \u001b[38;5;129;01min\u001b[39;00m mode \u001b[38;5;129;01mand\u001b[39;00m is_path:\n\u001b[1;32m--> 739\u001b[0m     check_parent_directory(\u001b[38;5;28mstr\u001b[39m(handle))\n\u001b[0;32m    741\u001b[0m \u001b[38;5;28;01mif\u001b[39;00m compression:\n\u001b[0;32m    742\u001b[0m     \u001b[38;5;28;01mif\u001b[39;00m compression \u001b[38;5;241m!=\u001b[39m \u001b[38;5;124m\"\u001b[39m\u001b[38;5;124mzstd\u001b[39m\u001b[38;5;124m\"\u001b[39m:\n\u001b[0;32m    743\u001b[0m         \u001b[38;5;66;03m# compression libraries do not like an explicit text-mode\u001b[39;00m\n",
      "File \u001b[1;32mC:\\ProgramData\\anaconda3\\Lib\\site-packages\\pandas\\io\\common.py:604\u001b[0m, in \u001b[0;36mcheck_parent_directory\u001b[1;34m(path)\u001b[0m\n\u001b[0;32m    602\u001b[0m parent \u001b[38;5;241m=\u001b[39m Path(path)\u001b[38;5;241m.\u001b[39mparent\n\u001b[0;32m    603\u001b[0m \u001b[38;5;28;01mif\u001b[39;00m \u001b[38;5;129;01mnot\u001b[39;00m parent\u001b[38;5;241m.\u001b[39mis_dir():\n\u001b[1;32m--> 604\u001b[0m     \u001b[38;5;28;01mraise\u001b[39;00m \u001b[38;5;167;01mOSError\u001b[39;00m(\u001b[38;5;124mrf\u001b[39m\u001b[38;5;124m\"\u001b[39m\u001b[38;5;124mCannot save file into a non-existent directory: \u001b[39m\u001b[38;5;124m'\u001b[39m\u001b[38;5;132;01m{\u001b[39;00mparent\u001b[38;5;132;01m}\u001b[39;00m\u001b[38;5;124m'\u001b[39m\u001b[38;5;124m\"\u001b[39m)\n",
      "\u001b[1;31mOSError\u001b[0m: Cannot save file into a non-existent directory: 'merged_data'"
     ]
    }
   ],
   "source": [
    "\n",
    "#Merging all table\n",
    "\n",
    "\n",
    "# Merge: order_details + pizzas\n",
    "df = order_details.merge(pizzas, on=\"pizza_id\", how=\"left\")\n",
    "\n",
    "# Merge: add order timestamps\n",
    "df = df.merge(orders, on=\"order_id\", how=\"left\")\n",
    "\n",
    "# Merge: add pizza type info\n",
    "df = df.merge(pizza_types, on=\"pizza_type_id\", how=\"left\")\n",
    "# After merging everything\n",
    "df[\"revenue\"] = df[\"price\"] * df[\"quantity\"]\n",
    "\n",
    "# Save merged file with revenue\n",
    "df.to_csv(\"merged_data/merged_pizza_sales.csv\", index=False)\n",
    "\n",
    "\n",
    "\n",
    "df\n",
    "\n"
   ]
  },
  {
   "cell_type": "markdown",
   "id": "e61cfb9e",
   "metadata": {},
   "source": [
    "📊 Sales & Revenue\n",
    "\n",
    "What was the total revenue generated in 2015?\n",
    "\n",
    "Which pizza generated the highest revenue?\n",
    "\n",
    "Which pizza category (Classic, Chicken, Veggie, Supreme) earned the most revenue?\n",
    "\n",
    "What is the average order value (AOV) across all orders?"
   ]
  },
  {
   "cell_type": "code",
   "execution_count": null,
   "id": "8aa3ed10",
   "metadata": {},
   "outputs": [],
   "source": [
    "# Compute revenue\n",
    "df[\"revenue\"] = df[\"quantity\"] * df[\"price\"]\n",
    "total_revenue=df['revenue'].sum()\n",
    "# Revenue by category (e.g., Chicken, Classic, Veggie)\n",
    "revenue_by_category=(\n",
    "                  df.groupby('category')['revenue']\n",
    "                  .sum()\n",
    "                  .sort_values(ascending=False)\n",
    "    \n",
    ")\n",
    "revenue_by_category\n",
    "   "
   ]
  },
  {
   "cell_type": "code",
   "execution_count": null,
   "id": "b453e8b7",
   "metadata": {},
   "outputs": [],
   "source": [
    "\n",
    "#What was the total revenue generated in 2015?\n",
    "df['date']=pd.to_datetime(df['date'])\n",
    "total_revenue_2015=df[df['date'].dt.year == 2015]['revenue'].sum()\n",
    "total_revenue_2015\n",
    "df['name']"
   ]
  },
  {
   "cell_type": "raw",
   "id": "886e759a",
   "metadata": {},
   "source": [
    "\n"
   ]
  },
  {
   "cell_type": "code",
   "execution_count": null,
   "id": "6ff9b7b5",
   "metadata": {},
   "outputs": [],
   "source": []
  },
  {
   "cell_type": "code",
   "execution_count": 22,
   "id": "d9801312",
   "metadata": {},
   "outputs": [
    {
     "ename": "NameError",
     "evalue": "name 'revenue_by_category' is not defined",
     "output_type": "error",
     "traceback": [
      "\u001b[1;31m---------------------------------------------------------------------------\u001b[0m",
      "\u001b[1;31mNameError\u001b[0m                                 Traceback (most recent call last)",
      "Cell \u001b[1;32mIn[22], line 4\u001b[0m\n\u001b[0;32m      1\u001b[0m \u001b[38;5;66;03m#Which pizza category (Classic, Chicken, Veggie, Supreme) earned the most revenue?\u001b[39;00m\n\u001b[0;32m      2\u001b[0m \u001b[38;5;66;03m#.idxmax() → returns the index label (here, the category) of the maximum value.\u001b[39;00m\n\u001b[0;32m      3\u001b[0m \u001b[38;5;66;03m#.max() → returns the value itself.\u001b[39;00m\n\u001b[1;32m----> 4\u001b[0m top_category\u001b[38;5;241m=\u001b[39mrevenue_by_category\u001b[38;5;241m.\u001b[39midxmax()\n\u001b[0;32m      5\u001b[0m Revenue\u001b[38;5;241m=\u001b[39mrevenue_by_category\u001b[38;5;241m.\u001b[39mmax()\n\u001b[0;32m      6\u001b[0m \u001b[38;5;28mprint\u001b[39m(\u001b[38;5;124m\"\u001b[39m\u001b[38;5;124mTop category:\u001b[39m\u001b[38;5;124m\"\u001b[39m,top_category)\n",
      "\u001b[1;31mNameError\u001b[0m: name 'revenue_by_category' is not defined"
     ]
    }
   ],
   "source": [
    "#Which pizza category (Classic, Chicken, Veggie, Supreme) earned the most revenue?\n",
    "#.idxmax() → returns the index label (here, the category) of the maximum value.\n",
    "#.max() → returns the value itself.\n",
    "top_category=revenue_by_category.idxmax()\n",
    "Revenue=revenue_by_category.max()\n",
    "print(\"Top category:\",top_category)\n",
    "print(\"Revenue:\",Revenue)"
   ]
  },
  {
   "cell_type": "code",
   "execution_count": 23,
   "id": "401260ea",
   "metadata": {},
   "outputs": [
    {
     "name": "stdout",
     "output_type": "stream",
     "text": [
      "AOV: 38.30726229508196\n"
     ]
    }
   ],
   "source": [
    "\n",
    "#What is the average order value (AOV) across all orders?\n",
    "#AOV=Number of OrdersTotal/ Revenue per Order​\n",
    "revenue_per_order = df.groupby(\"order_id\")[\"revenue\"].sum()\n",
    "aov=revenue_per_order.mean()\n",
    "print(\"AOV:\",aov)"
   ]
  },
  {
   "cell_type": "markdown",
   "id": "7be2442a",
   "metadata": {},
   "source": [
    "Which pizza was ordered the most times (by quantity)?\n",
    "\n",
    "Which size (S, M, L, XL, XXL) sold the most units?\n",
    "\n",
    "Which size contributed the most revenue?\n",
    "\n",
    "What are the top 5 pizzas by total quantity sold?"
   ]
  },
  {
   "cell_type": "code",
   "execution_count": 24,
   "id": "30feeaea",
   "metadata": {},
   "outputs": [
    {
     "name": "stdout",
     "output_type": "stream",
     "text": [
      "most order_pizza: 2453\n",
      "Most ordered pizaa: The Classic Deluxe Pizza\n"
     ]
    },
    {
     "data": {
      "text/plain": [
       "name\n",
       "The Barbecue Chicken Pizza                    2432\n",
       "The Big Meat Pizza                            1914\n",
       "The Brie Carre Pizza                           490\n",
       "The Calabrese Pizza                            937\n",
       "The California Chicken Pizza                  2370\n",
       "The Chicken Alfredo Pizza                      987\n",
       "The Chicken Pesto Pizza                        973\n",
       "The Classic Deluxe Pizza                      2453\n",
       "The Five Cheese Pizza                         1409\n",
       "The Four Cheese Pizza                         1902\n",
       "The Greek Pizza                               1420\n",
       "The Green Garden Pizza                         997\n",
       "The Hawaiian Pizza                            2422\n",
       "The Italian Capocollo Pizza                   1438\n",
       "The Italian Supreme Pizza                     1884\n",
       "The Italian Vegetables Pizza                   981\n",
       "The Mediterranean Pizza                        934\n",
       "The Mexicana Pizza                            1484\n",
       "The Napolitana Pizza                          1464\n",
       "The Pepper Salami Pizza                       1446\n",
       "The Pepperoni Pizza                           2418\n",
       "The Pepperoni, Mushroom, and Peppers Pizza    1359\n",
       "The Prosciutto and Arugula Pizza              1457\n",
       "The Sicilian Pizza                            1938\n",
       "The Soppressata Pizza                          961\n",
       "The Southwest Chicken Pizza                   1917\n",
       "The Spicy Italian Pizza                       1924\n",
       "The Spinach Pesto Pizza                        970\n",
       "The Spinach Supreme Pizza                      950\n",
       "The Spinach and Feta Pizza                    1446\n",
       "The Thai Chicken Pizza                        2371\n",
       "The Vegetables + Vegetables Pizza             1526\n",
       "Name: quantity, dtype: int64"
      ]
     },
     "execution_count": 24,
     "metadata": {},
     "output_type": "execute_result"
    }
   ],
   "source": [
    "# Which pizza was ordered the most times (by quantity)\n",
    "pizza_sales=df.groupby('name')['quantity'].sum()\n",
    "top_pizza_sales=pizza_sales.idxmax()\n",
    "top_quantity = pizza_sales.max()\n",
    "\n",
    "print(\"most order_pizza:\",top_quantity)\n",
    "print(\"Most ordered pizaa:\",top_pizza_sales)\n",
    "pizza_sales\n"
   ]
  },
  {
   "cell_type": "code",
   "execution_count": 25,
   "id": "fe8df784",
   "metadata": {},
   "outputs": [
    {
     "name": "stdout",
     "output_type": "stream",
     "text": [
      "Most sale pizza size: L\n"
     ]
    }
   ],
   "source": [
    "#Which size (S, M, L, XL, XXL) sold the most units?\n",
    "pizza_size=df.groupby('size')['quantity'].sum()\n",
    "top_sale_pizza_size=pizza_size.idxmax()\n",
    "print(\"Most sale pizza size:\",top_sale_pizza_size)\n",
    "\n",
    "\n",
    "\n",
    "\n"
   ]
  },
  {
   "cell_type": "code",
   "execution_count": 26,
   "id": "bbe3f936",
   "metadata": {},
   "outputs": [
    {
     "name": "stdout",
     "output_type": "stream",
     "text": [
      "size\n",
      "L      375318.70\n",
      "M      249382.25\n",
      "S      178076.50\n",
      "XL      14076.00\n",
      "XXL      1006.60\n",
      "Name: revenue, dtype: float64\n",
      "Most contribution on pizza sales by pizza size: L\n"
     ]
    }
   ],
   "source": [
    "#Which size contributed the most revenue?\n",
    "revenue_contribution_based_on_size=df.groupby('size')['revenue'].sum()\n",
    "cont=revenue_contribution_based_on_size.idxmax();\n",
    "print(revenue_contribution_based_on_size)\n",
    "print(\"Most contribution on pizza sales by pizza size:\",cont)\n",
    "\n"
   ]
  },
  {
   "cell_type": "code",
   "execution_count": 27,
   "id": "ddd12263",
   "metadata": {},
   "outputs": [
    {
     "data": {
      "text/plain": [
       "name\n",
       "The Classic Deluxe Pizza      2453\n",
       "The Barbecue Chicken Pizza    2432\n",
       "The Hawaiian Pizza            2422\n",
       "The Pepperoni Pizza           2418\n",
       "The Thai Chicken Pizza        2371\n",
       "Name: quantity, dtype: int64"
      ]
     },
     "execution_count": 27,
     "metadata": {},
     "output_type": "execute_result"
    }
   ],
   "source": [
    "#What are the top 5 pizzas by total quantity sold?\n",
    "pizza_sales=df.groupby('name')['quantity'].sum()\n",
    "top_5=pizza_sales.sort_values(ascending=False).head()\n",
    "top_5"
   ]
  },
  {
   "cell_type": "code",
   "execution_count": 28,
   "id": "7a60e629",
   "metadata": {},
   "outputs": [
    {
     "name": "stdout",
     "output_type": "stream",
     "text": [
      "monthly_revenue: month\n",
      "1     69793.30\n",
      "2     65159.60\n",
      "3     70397.10\n",
      "4     68736.80\n",
      "5     71402.75\n",
      "6     68230.20\n",
      "7     72557.90\n",
      "8     68278.25\n",
      "9     64180.05\n",
      "10    64027.60\n",
      "11    70395.35\n",
      "12    64701.15\n",
      "Name: revenue, dtype: float64\n",
      "Month in which most revenue has: 7\n"
     ]
    }
   ],
   "source": [
    "df[\"date\"] = pd.to_datetime(df[\"date\"])\n",
    "df[\"month\"] = df[\"date\"].dt.month\n",
    "df['day']=df['date'].dt.day\n",
    "\n",
    "monthly_revenue=df.groupby('month')['revenue'].sum()\n",
    "max_month_revenue=monthly_revenue.max()\n",
    "month=monthly_revenue.idxmax()\n",
    "\n",
    "print(\"monthly_revenue:\",monthly_revenue)\n",
    "print('Month in which most revenue has:',month)\n",
    "\n",
    "\n",
    "    "
   ]
  },
  {
   "cell_type": "code",
   "execution_count": 29,
   "id": "cfe8e3d3",
   "metadata": {},
   "outputs": [
    {
     "name": "stdout",
     "output_type": "stream",
     "text": [
      "Revenue by weekday:\n",
      " weekday\n",
      "Friday       136073.90\n",
      "Thursday     123528.50\n",
      "Saturday     123182.40\n",
      "Wednesday    114408.40\n",
      "Tuesday      114133.80\n",
      "Monday       107329.55\n",
      "Sunday        99203.50\n",
      "Name: revenue, dtype: float64\n",
      "Best day: Friday with revenue: 136073.9\n"
     ]
    }
   ],
   "source": [
    "df['weekday']=df['date'].dt.day_name()\n",
    "revenue_by_weekday = df.groupby(\"weekday\")[\"revenue\"].sum().sort_values(ascending=False)\n",
    "\n",
    "# Best day\n",
    "best_day = revenue_by_weekday.idxmax()\n",
    "best_revenue = revenue_by_weekday.max()\n",
    "\n",
    "print(\"Revenue by weekday:\\n\", revenue_by_weekday)\n",
    "print(\"Best day:\", best_day, \"with revenue:\", best_revenue)"
   ]
  },
  {
   "cell_type": "code",
   "execution_count": 30,
   "id": "fcfd64b4",
   "metadata": {},
   "outputs": [
    {
     "name": "stdout",
     "output_type": "stream",
     "text": [
      "Unique orders per hour:\n",
      " hour\n",
      "9        1\n",
      "10       8\n",
      "11    1231\n",
      "12    2520\n",
      "13    2455\n",
      "14    1472\n",
      "15    1468\n",
      "16    1920\n",
      "17    2336\n",
      "18    2399\n",
      "19    2009\n",
      "20    1642\n",
      "21    1198\n",
      "22     663\n",
      "23      28\n",
      "Name: order_id, dtype: int64\n",
      "Total pizzas sold per hour:\n",
      " hour\n",
      "9        4\n",
      "10      17\n",
      "11    2672\n",
      "12    6543\n",
      "13    6203\n",
      "14    3521\n",
      "15    3170\n",
      "16    4185\n",
      "17    5143\n",
      "18    5359\n",
      "19    4350\n",
      "20    3487\n",
      "21    2528\n",
      "22    1370\n",
      "23      68\n",
      "Name: order_id, dtype: int64\n",
      "Revenue by hour:\n",
      " hour\n",
      "9         83.00\n",
      "10       303.65\n",
      "11     44935.80\n",
      "12    111877.90\n",
      "13    106065.70\n",
      "14     59201.40\n",
      "15     52992.30\n",
      "16     70055.40\n",
      "17     86237.45\n",
      "18     89296.85\n",
      "19     72628.90\n",
      "20     58215.40\n",
      "21     42029.80\n",
      "22     22815.15\n",
      "23      1121.35\n",
      "Name: revenue, dtype: float64\n",
      "Busiest hour: 12 with revenue: 111877.9\n"
     ]
    }
   ],
   "source": [
    "#What are the peak order hours of the \n",
    "df[\"time\"] = pd.to_datetime(df[\"time\"], format=\"%H:%M:%S\")\n",
    "\n",
    "df[\"hour\"] = df[\"time\"].dt.hour\n",
    "orders_by_hour = df.groupby(\"hour\")[\"order_id\"].nunique()\n",
    "pizzas_by_hour = df.groupby(\"hour\")[\"order_id\"].count()\n",
    "revenue_per_hour=df.groupby('hour')['revenue'].sum()\n",
    "busiest_hour=revenue_per_hour.idxmax()\n",
    "busiest_revenue=revenue_per_hour.max()\n",
    "print(\"Unique orders per hour:\\n\", orders_by_hour)\n",
    "print(\"Total pizzas sold per hour:\\n\", pizzas_by_hour)\n",
    "print(\"Revenue by hour:\\n\", revenue_per_hour)\n",
    "print(\"Busiest hour:\", busiest_hour, \"with revenue:\", busiest_revenue)\n",
    "\n"
   ]
  },
  {
   "cell_type": "code",
   "execution_count": 31,
   "id": "c87fd754",
   "metadata": {},
   "outputs": [
    {
     "name": "stdout",
     "output_type": "stream",
     "text": [
      "time_of_day\n",
      "Afternoon    400192.70\n",
      "Evening      306378.60\n",
      "Night         65966.30\n",
      "Morning       45322.45\n",
      "Name: revenue, dtype: float64\n"
     ]
    }
   ],
   "source": [
    "def get_time_of_day(hour):\n",
    "    if 5 <= hour < 12:\n",
    "        return \"Morning\"      # 5 AM - 11 AM\n",
    "    elif 12 <= hour < 17:\n",
    "        return \"Afternoon\"    # 12 PM - 4 PM\n",
    "    elif 17 <= hour < 21:\n",
    "        return \"Evening\"      # 5 PM - 8 PM\n",
    "    else:\n",
    "        return \"Night\"        # 9 PM - 4 AM\n",
    "\n",
    "# Apply function\n",
    "df[\"time_of_day\"] = df[\"hour\"].apply(get_time_of_day)\n",
    "\n",
    "# Revenue by time of day\n",
    "revenue_by_tod = df.groupby(\"time_of_day\")[\"revenue\"].sum().sort_values(ascending=False)\n",
    "print(revenue_by_tod)\n",
    "\n",
    "       \n",
    "    "
   ]
  },
  {
   "cell_type": "code",
   "execution_count": null,
   "id": "a25fbc6f",
   "metadata": {},
   "outputs": [],
   "source": []
  },
  {
   "cell_type": "code",
   "execution_count": 59,
   "id": "0a31c614",
   "metadata": {},
   "outputs": [],
   "source": [
    "\n"
   ]
  },
  {
   "cell_type": "code",
   "execution_count": null,
   "id": "b6916e1d",
   "metadata": {},
   "outputs": [],
   "source": []
  },
  {
   "cell_type": "code",
   "execution_count": null,
   "id": "8bff43a3",
   "metadata": {},
   "outputs": [],
   "source": []
  },
  {
   "cell_type": "code",
   "execution_count": null,
   "id": "c58f26d3",
   "metadata": {},
   "outputs": [],
   "source": []
  }
 ],
 "metadata": {
  "kernelspec": {
   "display_name": "Python 3 (ipykernel)",
   "language": "python",
   "name": "python3"
  },
  "language_info": {
   "codemirror_mode": {
    "name": "ipython",
    "version": 3
   },
   "file_extension": ".py",
   "mimetype": "text/x-python",
   "name": "python",
   "nbconvert_exporter": "python",
   "pygments_lexer": "ipython3",
   "version": "3.11.3"
  }
 },
 "nbformat": 4,
 "nbformat_minor": 5
}
