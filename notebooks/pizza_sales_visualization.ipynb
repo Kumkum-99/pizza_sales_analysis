{
 "cells": [
  {
   "cell_type": "code",
   "execution_count": 4,
   "id": "79837a1f",
   "metadata": {},
   "outputs": [],
   "source": [
    "import os\n",
    "import pandas as pd\n",
    "import seaborn as sns \n",
    "import matplotlib.pyplot as plt \n",
    "\n"
   ]
  },
  {
   "cell_type": "code",
   "execution_count": 23,
   "id": "603664d1",
   "metadata": {},
   "outputs": [],
   "source": [
    "\n",
    "main_folder = os.path.abspath(os.path.join(os.getcwd(), \"..\"))\n",
    "visualizations_folder = os.path.join(main_folder, \"visualizations\")\n",
    "\n",
    "def save_plot(filename, dpi=300):\n",
    "    \"\"\"\n",
    "    Save the current matplotlib plot to the visualizations folder in the main project.\n",
    "    \"\"\"\n",
    "    os.makedirs(visualizations_folder, exist_ok=True)  # in case folder is missing\n",
    "    path = os.path.join(visualizations_folder, filename)\n",
    "    plt.savefig(path, dpi=dpi, bbox_inches=\"tight\")\n",
    "    plt.close()\n",
    "    print(f\"Saved plot as {path}\")\n",
    "\n"
   ]
  },
  {
   "cell_type": "code",
   "execution_count": 24,
   "id": "6947e28e",
   "metadata": {},
   "outputs": [
    {
     "data": {
      "text/html": [
       "<div>\n",
       "<style scoped>\n",
       "    .dataframe tbody tr th:only-of-type {\n",
       "        vertical-align: middle;\n",
       "    }\n",
       "\n",
       "    .dataframe tbody tr th {\n",
       "        vertical-align: top;\n",
       "    }\n",
       "\n",
       "    .dataframe thead th {\n",
       "        text-align: right;\n",
       "    }\n",
       "</style>\n",
       "<table border=\"1\" class=\"dataframe\">\n",
       "  <thead>\n",
       "    <tr style=\"text-align: right;\">\n",
       "      <th></th>\n",
       "      <th>order_details_id</th>\n",
       "      <th>order_id</th>\n",
       "      <th>pizza_id</th>\n",
       "      <th>quantity</th>\n",
       "      <th>pizza_type_id</th>\n",
       "      <th>size</th>\n",
       "      <th>price</th>\n",
       "      <th>date</th>\n",
       "      <th>time</th>\n",
       "      <th>name</th>\n",
       "      <th>category</th>\n",
       "      <th>ingredients</th>\n",
       "      <th>revenue</th>\n",
       "      <th>hour</th>\n",
       "    </tr>\n",
       "  </thead>\n",
       "  <tbody>\n",
       "    <tr>\n",
       "      <th>0</th>\n",
       "      <td>1</td>\n",
       "      <td>1</td>\n",
       "      <td>hawaiian_m</td>\n",
       "      <td>1</td>\n",
       "      <td>hawaiian</td>\n",
       "      <td>M</td>\n",
       "      <td>13.25</td>\n",
       "      <td>2015-01-01</td>\n",
       "      <td>1900-01-01 11:38:36</td>\n",
       "      <td>The Hawaiian Pizza</td>\n",
       "      <td>Classic</td>\n",
       "      <td>Sliced Ham, Pineapple, Mozzarella Cheese</td>\n",
       "      <td>13.25</td>\n",
       "      <td>11</td>\n",
       "    </tr>\n",
       "    <tr>\n",
       "      <th>1</th>\n",
       "      <td>2</td>\n",
       "      <td>2</td>\n",
       "      <td>classic_dlx_m</td>\n",
       "      <td>1</td>\n",
       "      <td>classic_dlx</td>\n",
       "      <td>M</td>\n",
       "      <td>16.00</td>\n",
       "      <td>2015-01-01</td>\n",
       "      <td>1900-01-01 11:57:40</td>\n",
       "      <td>The Classic Deluxe Pizza</td>\n",
       "      <td>Classic</td>\n",
       "      <td>Pepperoni, Mushrooms, Red Onions, Red Peppers,...</td>\n",
       "      <td>16.00</td>\n",
       "      <td>11</td>\n",
       "    </tr>\n",
       "    <tr>\n",
       "      <th>2</th>\n",
       "      <td>3</td>\n",
       "      <td>2</td>\n",
       "      <td>five_cheese_l</td>\n",
       "      <td>1</td>\n",
       "      <td>five_cheese</td>\n",
       "      <td>L</td>\n",
       "      <td>18.50</td>\n",
       "      <td>2015-01-01</td>\n",
       "      <td>1900-01-01 11:57:40</td>\n",
       "      <td>The Five Cheese Pizza</td>\n",
       "      <td>Veggie</td>\n",
       "      <td>Mozzarella Cheese, Provolone Cheese, Smoked Go...</td>\n",
       "      <td>18.50</td>\n",
       "      <td>11</td>\n",
       "    </tr>\n",
       "    <tr>\n",
       "      <th>3</th>\n",
       "      <td>4</td>\n",
       "      <td>2</td>\n",
       "      <td>ital_supr_l</td>\n",
       "      <td>1</td>\n",
       "      <td>ital_supr</td>\n",
       "      <td>L</td>\n",
       "      <td>20.75</td>\n",
       "      <td>2015-01-01</td>\n",
       "      <td>1900-01-01 11:57:40</td>\n",
       "      <td>The Italian Supreme Pizza</td>\n",
       "      <td>Supreme</td>\n",
       "      <td>Calabrese Salami, Capocollo, Tomatoes, Red Oni...</td>\n",
       "      <td>20.75</td>\n",
       "      <td>11</td>\n",
       "    </tr>\n",
       "    <tr>\n",
       "      <th>4</th>\n",
       "      <td>5</td>\n",
       "      <td>2</td>\n",
       "      <td>mexicana_m</td>\n",
       "      <td>1</td>\n",
       "      <td>mexicana</td>\n",
       "      <td>M</td>\n",
       "      <td>16.00</td>\n",
       "      <td>2015-01-01</td>\n",
       "      <td>1900-01-01 11:57:40</td>\n",
       "      <td>The Mexicana Pizza</td>\n",
       "      <td>Veggie</td>\n",
       "      <td>Tomatoes, Red Peppers, Jalapeno Peppers, Red O...</td>\n",
       "      <td>16.00</td>\n",
       "      <td>11</td>\n",
       "    </tr>\n",
       "    <tr>\n",
       "      <th>...</th>\n",
       "      <td>...</td>\n",
       "      <td>...</td>\n",
       "      <td>...</td>\n",
       "      <td>...</td>\n",
       "      <td>...</td>\n",
       "      <td>...</td>\n",
       "      <td>...</td>\n",
       "      <td>...</td>\n",
       "      <td>...</td>\n",
       "      <td>...</td>\n",
       "      <td>...</td>\n",
       "      <td>...</td>\n",
       "      <td>...</td>\n",
       "      <td>...</td>\n",
       "    </tr>\n",
       "    <tr>\n",
       "      <th>48615</th>\n",
       "      <td>48616</td>\n",
       "      <td>21348</td>\n",
       "      <td>ckn_alfredo_m</td>\n",
       "      <td>1</td>\n",
       "      <td>ckn_alfredo</td>\n",
       "      <td>M</td>\n",
       "      <td>16.75</td>\n",
       "      <td>2015-12-31</td>\n",
       "      <td>1900-01-01 21:23:10</td>\n",
       "      <td>The Chicken Alfredo Pizza</td>\n",
       "      <td>Chicken</td>\n",
       "      <td>Chicken, Red Onions, Red Peppers, Mushrooms, A...</td>\n",
       "      <td>16.75</td>\n",
       "      <td>21</td>\n",
       "    </tr>\n",
       "    <tr>\n",
       "      <th>48616</th>\n",
       "      <td>48617</td>\n",
       "      <td>21348</td>\n",
       "      <td>four_cheese_l</td>\n",
       "      <td>1</td>\n",
       "      <td>four_cheese</td>\n",
       "      <td>L</td>\n",
       "      <td>17.95</td>\n",
       "      <td>2015-12-31</td>\n",
       "      <td>1900-01-01 21:23:10</td>\n",
       "      <td>The Four Cheese Pizza</td>\n",
       "      <td>Veggie</td>\n",
       "      <td>Ricotta Cheese, Gorgonzola Piccante Cheese, Mo...</td>\n",
       "      <td>17.95</td>\n",
       "      <td>21</td>\n",
       "    </tr>\n",
       "    <tr>\n",
       "      <th>48617</th>\n",
       "      <td>48618</td>\n",
       "      <td>21348</td>\n",
       "      <td>napolitana_s</td>\n",
       "      <td>1</td>\n",
       "      <td>napolitana</td>\n",
       "      <td>S</td>\n",
       "      <td>12.00</td>\n",
       "      <td>2015-12-31</td>\n",
       "      <td>1900-01-01 21:23:10</td>\n",
       "      <td>The Napolitana Pizza</td>\n",
       "      <td>Classic</td>\n",
       "      <td>Tomatoes, Anchovies, Green Olives, Red Onions,...</td>\n",
       "      <td>12.00</td>\n",
       "      <td>21</td>\n",
       "    </tr>\n",
       "    <tr>\n",
       "      <th>48618</th>\n",
       "      <td>48619</td>\n",
       "      <td>21349</td>\n",
       "      <td>mexicana_l</td>\n",
       "      <td>1</td>\n",
       "      <td>mexicana</td>\n",
       "      <td>L</td>\n",
       "      <td>20.25</td>\n",
       "      <td>2015-12-31</td>\n",
       "      <td>1900-01-01 22:09:54</td>\n",
       "      <td>The Mexicana Pizza</td>\n",
       "      <td>Veggie</td>\n",
       "      <td>Tomatoes, Red Peppers, Jalapeno Peppers, Red O...</td>\n",
       "      <td>20.25</td>\n",
       "      <td>22</td>\n",
       "    </tr>\n",
       "    <tr>\n",
       "      <th>48619</th>\n",
       "      <td>48620</td>\n",
       "      <td>21350</td>\n",
       "      <td>bbq_ckn_s</td>\n",
       "      <td>1</td>\n",
       "      <td>bbq_ckn</td>\n",
       "      <td>S</td>\n",
       "      <td>12.75</td>\n",
       "      <td>2015-12-31</td>\n",
       "      <td>1900-01-01 23:02:05</td>\n",
       "      <td>The Barbecue Chicken Pizza</td>\n",
       "      <td>Chicken</td>\n",
       "      <td>Barbecued Chicken, Red Peppers, Green Peppers,...</td>\n",
       "      <td>12.75</td>\n",
       "      <td>23</td>\n",
       "    </tr>\n",
       "  </tbody>\n",
       "</table>\n",
       "<p>48620 rows × 14 columns</p>\n",
       "</div>"
      ],
      "text/plain": [
       "       order_details_id  order_id       pizza_id  quantity pizza_type_id size  \\\n",
       "0                     1         1     hawaiian_m         1      hawaiian    M   \n",
       "1                     2         2  classic_dlx_m         1   classic_dlx    M   \n",
       "2                     3         2  five_cheese_l         1   five_cheese    L   \n",
       "3                     4         2    ital_supr_l         1     ital_supr    L   \n",
       "4                     5         2     mexicana_m         1      mexicana    M   \n",
       "...                 ...       ...            ...       ...           ...  ...   \n",
       "48615             48616     21348  ckn_alfredo_m         1   ckn_alfredo    M   \n",
       "48616             48617     21348  four_cheese_l         1   four_cheese    L   \n",
       "48617             48618     21348   napolitana_s         1    napolitana    S   \n",
       "48618             48619     21349     mexicana_l         1      mexicana    L   \n",
       "48619             48620     21350      bbq_ckn_s         1       bbq_ckn    S   \n",
       "\n",
       "       price       date                time                        name  \\\n",
       "0      13.25 2015-01-01 1900-01-01 11:38:36          The Hawaiian Pizza   \n",
       "1      16.00 2015-01-01 1900-01-01 11:57:40    The Classic Deluxe Pizza   \n",
       "2      18.50 2015-01-01 1900-01-01 11:57:40       The Five Cheese Pizza   \n",
       "3      20.75 2015-01-01 1900-01-01 11:57:40   The Italian Supreme Pizza   \n",
       "4      16.00 2015-01-01 1900-01-01 11:57:40          The Mexicana Pizza   \n",
       "...      ...        ...                 ...                         ...   \n",
       "48615  16.75 2015-12-31 1900-01-01 21:23:10   The Chicken Alfredo Pizza   \n",
       "48616  17.95 2015-12-31 1900-01-01 21:23:10       The Four Cheese Pizza   \n",
       "48617  12.00 2015-12-31 1900-01-01 21:23:10        The Napolitana Pizza   \n",
       "48618  20.25 2015-12-31 1900-01-01 22:09:54          The Mexicana Pizza   \n",
       "48619  12.75 2015-12-31 1900-01-01 23:02:05  The Barbecue Chicken Pizza   \n",
       "\n",
       "      category                                        ingredients  revenue  \\\n",
       "0      Classic           Sliced Ham, Pineapple, Mozzarella Cheese    13.25   \n",
       "1      Classic  Pepperoni, Mushrooms, Red Onions, Red Peppers,...    16.00   \n",
       "2       Veggie  Mozzarella Cheese, Provolone Cheese, Smoked Go...    18.50   \n",
       "3      Supreme  Calabrese Salami, Capocollo, Tomatoes, Red Oni...    20.75   \n",
       "4       Veggie  Tomatoes, Red Peppers, Jalapeno Peppers, Red O...    16.00   \n",
       "...        ...                                                ...      ...   \n",
       "48615  Chicken  Chicken, Red Onions, Red Peppers, Mushrooms, A...    16.75   \n",
       "48616   Veggie  Ricotta Cheese, Gorgonzola Piccante Cheese, Mo...    17.95   \n",
       "48617  Classic  Tomatoes, Anchovies, Green Olives, Red Onions,...    12.00   \n",
       "48618   Veggie  Tomatoes, Red Peppers, Jalapeno Peppers, Red O...    20.25   \n",
       "48619  Chicken  Barbecued Chicken, Red Peppers, Green Peppers,...    12.75   \n",
       "\n",
       "       hour  \n",
       "0        11  \n",
       "1        11  \n",
       "2        11  \n",
       "3        11  \n",
       "4        11  \n",
       "...     ...  \n",
       "48615    21  \n",
       "48616    21  \n",
       "48617    21  \n",
       "48618    22  \n",
       "48619    23  \n",
       "\n",
       "[48620 rows x 14 columns]"
      ]
     },
     "execution_count": 24,
     "metadata": {},
     "output_type": "execute_result"
    }
   ],
   "source": [
    "df = pd.read_csv(\"../data/processed/merged_pizza_sales.csv\")\n",
    "df[\"date\"] = pd.to_datetime(df[\"date\"])\n",
    "df['time']=pd.to_datetime(df['time'],format=\"%H:%M:%S\")\n",
    "df['hour']=df['time'].dt.hour\n",
    "df\n",
    "\n"
   ]
  },
  {
   "cell_type": "markdown",
   "id": "fc6127c0",
   "metadata": {},
   "source": [
    "# Monthly Revenue Trend"
   ]
  },
  {
   "cell_type": "code",
   "execution_count": 25,
   "id": "5b084b1c",
   "metadata": {},
   "outputs": [
    {
     "name": "stdout",
     "output_type": "stream",
     "text": [
      "Saved plot as C:\\Users\\Trilok singh\\Desktop\\Data_Science\\pizaa_sales_project\\visualizations\\monthly_revenue.png\n"
     ]
    },
    {
     "name": "stderr",
     "output_type": "stream",
     "text": [
      "C:\\ProgramData\\anaconda3\\Lib\\site-packages\\seaborn\\_oldcore.py:1119: FutureWarning: use_inf_as_na option is deprecated and will be removed in a future version. Convert inf values to NaN before operating instead.\n",
      "  with pd.option_context('mode.use_inf_as_na', True):\n",
      "C:\\ProgramData\\anaconda3\\Lib\\site-packages\\seaborn\\_oldcore.py:1119: FutureWarning: use_inf_as_na option is deprecated and will be removed in a future version. Convert inf values to NaN before operating instead.\n",
      "  with pd.option_context('mode.use_inf_as_na', True):\n"
     ]
    }
   ],
   "source": [
    "monthly_revenue = df.groupby(df['date'].dt.month)[\"revenue\"].sum()\n",
    "\n",
    "plt.figure(figsize=(8,5))\n",
    "sns.lineplot(x=monthly_revenue.index,y=monthly_revenue.values,marker='o')\n",
    "plt.title('Monthly revenue trend')\n",
    "plt.xlabel('Month')\n",
    "plt.ylabel('Revenue')\n",
    "save_plot('monthly_revenue.png')\n"
   ]
  },
  {
   "cell_type": "code",
   "execution_count": 26,
   "id": "29411af0",
   "metadata": {},
   "outputs": [
    {
     "name": "stderr",
     "output_type": "stream",
     "text": [
      "C:\\ProgramData\\anaconda3\\Lib\\site-packages\\seaborn\\_oldcore.py:1119: FutureWarning: use_inf_as_na option is deprecated and will be removed in a future version. Convert inf values to NaN before operating instead.\n",
      "  with pd.option_context('mode.use_inf_as_na', True):\n",
      "C:\\ProgramData\\anaconda3\\Lib\\site-packages\\seaborn\\_oldcore.py:1119: FutureWarning: use_inf_as_na option is deprecated and will be removed in a future version. Convert inf values to NaN before operating instead.\n",
      "  with pd.option_context('mode.use_inf_as_na', True):\n"
     ]
    },
    {
     "name": "stdout",
     "output_type": "stream",
     "text": [
      "Saved plot as C:\\Users\\Trilok singh\\Desktop\\Data_Science\\pizaa_sales_project\\visualizations\\cumulative_revenue.png\n"
     ]
    }
   ],
   "source": [
    "df[\"date\"] = pd.to_datetime(df[\"date\"])\n",
    "monthly_revenue = df.groupby(df[\"date\"].dt.month)[\"revenue\"].sum()\n",
    "\n",
    "# Cumulative sum\n",
    "cumulative_revenue = monthly_revenue.cumsum()\n",
    "\n",
    "# Plot\n",
    "plt.figure(figsize=(8,5))\n",
    "sns.lineplot(x=cumulative_revenue.index, y=cumulative_revenue.values, marker=\"o\")\n",
    "plt.title(\"Cumulative Revenue Growth (2015)\")\n",
    "plt.xlabel(\"Month\")\n",
    "plt.ylabel(\"Cumulative Revenue\")\n",
    "save_plot('cumulative_revenue.png')\n",
    "plt.close()\n"
   ]
  },
  {
   "cell_type": "markdown",
   "id": "14632f61",
   "metadata": {},
   "source": [
    "# Revenue by Category"
   ]
  },
  {
   "cell_type": "code",
   "execution_count": 27,
   "id": "7bb918da",
   "metadata": {},
   "outputs": [
    {
     "name": "stdout",
     "output_type": "stream",
     "text": [
      "Saved plot as C:\\Users\\Trilok singh\\Desktop\\Data_Science\\pizaa_sales_project\\visualizations\\category_revenue.png\n"
     ]
    }
   ],
   "source": [
    "category_revenue=df.groupby('category')['revenue'].sum()\n",
    "plt.figure(figsize=(6,5))\n",
    "sns.barplot(x=category_revenue.index,y=category_revenue.values)\n",
    "plt.title('Revenue by Pizza Category')\n",
    "plt.ylabel('Revenue')\n",
    "save_plot('category_revenue.png')\n",
    "\n"
   ]
  },
  {
   "cell_type": "markdown",
   "id": "401cad54",
   "metadata": {},
   "source": [
    "# Top 10 Pizzas by Quantity"
   ]
  },
  {
   "cell_type": "code",
   "execution_count": 28,
   "id": "d9e4111d",
   "metadata": {},
   "outputs": [
    {
     "name": "stdout",
     "output_type": "stream",
     "text": [
      "Saved plot as C:\\Users\\Trilok singh\\Desktop\\Data_Science\\pizaa_sales_project\\visualizations\\top_pizzas.png\n"
     ]
    }
   ],
   "source": [
    "top_pizzas=df.groupby('name')['quantity'].sum().sort_values(ascending=False).head(10)\n",
    "plt.figure(figsize=(6,4))\n",
    "sns.barplot(x=top_pizzas.index,y=top_pizzas.values)\n",
    "plt.title(\"Top 10 Pizzas by Quantity Sold\")\n",
    "save_plot('top_pizzas.png')\n",
    "\n"
   ]
  },
  {
   "cell_type": "markdown",
   "id": "7a7c3467",
   "metadata": {},
   "source": [
    "# Pizza size VS Quantity of Pizza"
   ]
  },
  {
   "cell_type": "code",
   "execution_count": 29,
   "id": "008a29f3",
   "metadata": {},
   "outputs": [
    {
     "name": "stdout",
     "output_type": "stream",
     "text": [
      "Saved plot as C:\\Users\\Trilok singh\\Desktop\\Data_Science\\pizaa_sales_project\\visualizations\\quantity_by_pizza_size.png\n"
     ]
    }
   ],
   "source": [
    "pizza_size=df.groupby('size')['quantity'].sum()\n",
    "plt.figure(figsize=(4,6))\n",
    "sns.barplot(x=pizza_size.index,y=pizza_size.values)\n",
    "plt.xlabel('size')\n",
    "plt.ylabel('quantity')\n",
    "save_plot('quantity_by_pizza_size.png')\n",
    "plt.close()\n"
   ]
  },
  {
   "cell_type": "markdown",
   "id": "dfd59eb1",
   "metadata": {},
   "source": [
    "# WeekDay Revenue"
   ]
  },
  {
   "cell_type": "code",
   "execution_count": 30,
   "id": "6a3ab634",
   "metadata": {},
   "outputs": [
    {
     "name": "stdout",
     "output_type": "stream",
     "text": [
      "Saved plot as C:\\Users\\Trilok singh\\Desktop\\Data_Science\\pizaa_sales_project\\visualizations\\revenue_by_week.png\n"
     ]
    }
   ],
   "source": [
    "df['weekday']=df['date'].dt.day_name()\n",
    "revenue_by_weekday = df.groupby(\"weekday\")[\"revenue\"].sum().sort_values(ascending=True)\n",
    "sns.barplot(x=revenue_by_weekday.index,y=revenue_by_weekday.values)\n",
    "plt.title('Revenue by weekday')\n",
    "save_plot('revenue_by_week.png')\n",
    "plt.close()"
   ]
  },
  {
   "cell_type": "markdown",
   "id": "2b730edd",
   "metadata": {},
   "source": [
    "# Orders By Hour\n",
    "\n"
   ]
  },
  {
   "cell_type": "code",
   "execution_count": 31,
   "id": "00ff471d",
   "metadata": {},
   "outputs": [
    {
     "name": "stdout",
     "output_type": "stream",
     "text": [
      "Saved plot as C:\\Users\\Trilok singh\\Desktop\\Data_Science\\pizaa_sales_project\\visualizations\\orders_by_hour.png\n"
     ]
    }
   ],
   "source": [
    "orders_by_hour = df.groupby(\"hour\")[\"order_id\"].nunique()\n",
    "sns.barplot(x=orders_by_hour.index,y=orders_by_hour.values)\n",
    "plt.title('Order By hour')\n",
    "plt.ylabel('Number of Order')\n",
    "save_plot('orders_by_hour.png')\n",
    "plt.close()"
   ]
  },
  {
   "cell_type": "markdown",
   "id": "7941de6c",
   "metadata": {},
   "source": [
    "# revenue by time of day"
   ]
  },
  {
   "cell_type": "code",
   "execution_count": 32,
   "id": "8329d9ef",
   "metadata": {},
   "outputs": [],
   "source": [
    "def get_time_of_day(hour):\n",
    "    if 5 <= hour < 12:\n",
    "        return \"Morning\"      # 5 AM - 11 AM\n",
    "    elif 12 <= hour < 17:\n",
    "        return \"Afternoon\"    # 12 PM - 4 PM\n",
    "    elif 17 <= hour < 21:\n",
    "        return \"Evening\"      # 5 PM - 8 PM\n",
    "    else:\n",
    "        return \"Night\"        # 9 PM - 4 AM\n",
    "\n",
    "# Apply function\n",
    "df[\"time_of_day\"] = df[\"hour\"].apply(get_time_of_day)\n",
    "\n",
    "# Revenue by time of day\n",
    "revenue_by_tod = df.groupby(\"time_of_day\")[\"revenue\"].sum().sort_values(ascending=False)\n"
   ]
  },
  {
   "cell_type": "code",
   "execution_count": 33,
   "id": "01105259",
   "metadata": {},
   "outputs": [
    {
     "name": "stdout",
     "output_type": "stream",
     "text": [
      "Saved plot as C:\\Users\\Trilok singh\\Desktop\\Data_Science\\pizaa_sales_project\\visualizations\\revenue_by_time_of_day.png\n"
     ]
    }
   ],
   "source": [
    "sns.barplot(x=revenue_by_tod.index,y=revenue_by_tod.values)\n",
    "plt.title('revenue by time of day')\n",
    "plt.ylabel('Revenue')\n",
    "save_plot('revenue_by_time_of_day.png')\n",
    "plt.close()"
   ]
  },
  {
   "cell_type": "code",
   "execution_count": null,
   "id": "b6eebdcb",
   "metadata": {},
   "outputs": [],
   "source": []
  },
  {
   "cell_type": "code",
   "execution_count": null,
   "id": "877c6f54",
   "metadata": {},
   "outputs": [],
   "source": []
  }
 ],
 "metadata": {
  "kernelspec": {
   "display_name": "Python 3 (ipykernel)",
   "language": "python",
   "name": "python3"
  },
  "language_info": {
   "codemirror_mode": {
    "name": "ipython",
    "version": 3
   },
   "file_extension": ".py",
   "mimetype": "text/x-python",
   "name": "python",
   "nbconvert_exporter": "python",
   "pygments_lexer": "ipython3",
   "version": "3.11.3"
  }
 },
 "nbformat": 4,
 "nbformat_minor": 5
}
